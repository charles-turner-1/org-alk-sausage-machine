{
 "cells": [
  {
   "cell_type": "code",
   "execution_count": 1,
   "metadata": {},
   "outputs": [
    {
     "name": "stdout",
     "output_type": "stream",
     "text": [
      "TA :  83.84526363461985 µmol.kg-1\n",
      "OA :  55.945681029064296 µmol.kg-1\n",
      "Minimisation repeated 4 times in order to reach fractional change of 1e-08 in SSR\n",
      "Final SSR value = 0.00383\n",
      "X1 (initial): 90.7777132532761 | pK1(initial):  5.259797138994193 | H0 : 0.0006988474973753943\n",
      "Minimisation repeated 2 times in order to reach fractional change of 1e-08 in SSR\n",
      "Final SSR value = 0.00100\n",
      "X1: 49.18227265827269 | pK1:  4.888739345535772 | Deviation % (g) NaOH : 0.21083778325131372\n",
      "Minimisation repeated 1 times in order to reach fractional change of 1e-08 in SSR\n",
      "Final SSR value = 0.00100\n",
      "X2: -0.11856704926529067 | pK2:  nan | Deviation % (g) NaOH : 0.2104337895370222\n",
      "Minimisation repeated 2 times in order to reach fractional change of 1e-08 in SSR\n",
      "Final SSR value = 0.00100\n",
      "X3: 206.4969034877071 | pK3:  10.201817007427598 | Deviation % (g) NaOH : 0.21043343897405525\n"
     ]
    },
    {
     "name": "stderr",
     "output_type": "stream",
     "text": [
      "/Users/ct6g18/Python/org-alk-sausage-machine/SausageMachine.py:863: RuntimeWarning: invalid value encountered in log10\n",
      "  self.df_minimiser_outputs[\"pK2\"][minimiser_no] = -np.log10(self.K_X2)\n",
      "/Users/ct6g18/Python/org-alk-sausage-machine/SausageMachine.py:874: RuntimeWarning: invalid value encountered in log10\n",
      "  print('X2:', self.X2*10**6, \"| pK2: \", -np.log10(self.K_X2), '| Deviation % (g) NaOH :', (SSR/self.Vb)*100 )\n",
      "/Users/ct6g18/Python/org-alk-sausage-machine/SausageMachine.py:863: RuntimeWarning: invalid value encountered in log10\n",
      "  self.df_minimiser_outputs[\"pK2\"][minimiser_no] = -np.log10(self.K_X2)\n"
     ]
    },
    {
     "data": {
      "image/png": "[encoded data removed]",
      "text/plain": [
       "<Figure size 432x288 with 1 Axes>"
      ]
     },
     "metadata": {
      "needs_background": "light"
     },
     "output_type": "display_data"
    }
   ],
   "source": [
    "os.chdir(\"/Users/ct6g18/Python/org-alk-sausage-machine\")\n",
    "import SausageMachine\n",
    "tit = SausageMachine.OrgAlkTitration()\n",
    "tit.read_master_spreadsheet(\"~/Python/org-alk-sausage-machine/Test_Spreadsheets\"\n",
    "                           ,\"Master_Tit_file_updated.xlsx\"\n",
    "                           ,\"01.09.21.50UM.001_PROCESSED.xlsx\")\n",
    "tit.pipeline()\n",
    "tit.repeat_minimise(1,1e-8,plot_results=False)\n",
    "tit.repeat_minimise(2,1e-8,plot_results=False)\n",
    "tit.repeat_minimise(3,1e-8,plot_results=False)\n",
    "tit.repeat_minimise(4,1e-8,plot_results=True)"
   ]
  },
  {
   "cell_type": "code",
   "execution_count": null,
   "metadata": {},
   "outputs": [],
   "source": [
    "tit.select_output_params(batch_mode=True)\n",
    "tit.outputs"
   ]
  },
  {
   "cell_type": "code",
   "execution_count": 2,
   "metadata": {},
   "outputs": [
    {
     "data": {
      "text/plain": [
       "{'SAMPLE': None,\n",
       " 'SALINITY': 35,\n",
       " 'TA': 83.84526363461985,\n",
       " 'ORGALK': 55.945681029064296,\n",
       " 'MASS': 0.47519589005933865,\n",
       " 'H0': 0.0006988474973753943,\n",
       " 'X1': 49.18227265827269,\n",
       " 'X2': -0.11856704926529067,\n",
       " 'X3': 206.4969034877071,\n",
       " 'pK1': 4.888739345535772,\n",
       " 'pK2': nan,\n",
       " 'pK3': 10.201817007427598,\n",
       " 'CONVERGENCE_FACTOR': 1e-08,\n",
       " 'pK1_INITIAL': 4.500000000000001,\n",
       " 'pK2_INITIAL': 5.250000000000001,\n",
       " 'pK3_INITIAL': 5.5,\n",
       " 'SSR': 0.000999971053315237,\n",
       " 'SELECTED_MINIMISATION': 4}"
      ]
     },
     "execution_count": 2,
     "metadata": {},
     "output_type": "execute_result"
    }
   ],
   "source": [
    "tit.select_output_params(row_to_select=4)\n",
    "tit.outputs"
   ]
  },
  {
   "cell_type": "code",
   "execution_count": 3,
   "metadata": {},
   "outputs": [
    {
     "data": {
      "text/html": [
       "<div>\n",
       "<style scoped>\n",
       "    .dataframe tbody tr th:only-of-type {\n",
       "        vertical-align: middle;\n",
       "    }\n",
       "\n",
       "    .dataframe tbody tr th {\n",
       "        vertical-align: top;\n",
       "    }\n",
       "\n",
       "    .dataframe thead th {\n",
       "        text-align: right;\n",
       "    }\n",
       "</style>\n",
       "<table border=\"1\" class=\"dataframe\">\n",
       "  <thead>\n",
       "    <tr style=\"text-align: right;\">\n",
       "      <th></th>\n",
       "      <th>Unnamed: 0</th>\n",
       "      <th>SAMPLE</th>\n",
       "      <th>SALINITY</th>\n",
       "      <th>TA</th>\n",
       "      <th>ORGALK</th>\n",
       "      <th>MASS</th>\n",
       "      <th>H0</th>\n",
       "      <th>X1</th>\n",
       "      <th>X2</th>\n",
       "      <th>X3</th>\n",
       "      <th>pK1</th>\n",
       "      <th>pK2</th>\n",
       "      <th>pK3</th>\n",
       "      <th>CONVERGENCE_FACTOR</th>\n",
       "      <th>pK1_INITIAL</th>\n",
       "      <th>pK2_INITIAL</th>\n",
       "      <th>pK3_INITIAL</th>\n",
       "      <th>SSR</th>\n",
       "      <th>SELECTED_MINIMISATION</th>\n",
       "    </tr>\n",
       "  </thead>\n",
       "  <tbody>\n",
       "    <tr>\n",
       "      <th>0</th>\n",
       "      <td>NaN</td>\n",
       "      <td>01.09.21.50UM.001_PROCESSED.xlsx</td>\n",
       "      <td>35</td>\n",
       "      <td>83.845264</td>\n",
       "      <td>55.945681</td>\n",
       "      <td>0.475196</td>\n",
       "      <td>0.000699</td>\n",
       "      <td>49.182273</td>\n",
       "      <td>-0.118567</td>\n",
       "      <td>206.496903</td>\n",
       "      <td>4.888739</td>\n",
       "      <td>NaN</td>\n",
       "      <td>10.201817</td>\n",
       "      <td>0.0</td>\n",
       "      <td>4.5</td>\n",
       "      <td>5.25</td>\n",
       "      <td>5.5</td>\n",
       "      <td>0.001</td>\n",
       "      <td>4</td>\n",
       "    </tr>\n",
       "  </tbody>\n",
       "</table>\n",
       "</div>"
      ],
      "text/plain": [
       "  Unnamed: 0                            SAMPLE SALINITY         TA     ORGALK  \\\n",
       "0        NaN  01.09.21.50UM.001_PROCESSED.xlsx       35  83.845264  55.945681   \n",
       "\n",
       "       MASS        H0         X1        X2          X3       pK1  pK2  \\\n",
       "0  0.475196  0.000699  49.182273 -0.118567  206.496903  4.888739  NaN   \n",
       "\n",
       "         pK3 CONVERGENCE_FACTOR pK1_INITIAL pK2_INITIAL pK3_INITIAL    SSR  \\\n",
       "0  10.201817                0.0         4.5        5.25         5.5  0.001   \n",
       "\n",
       "  SELECTED_MINIMISATION  \n",
       "0                     4  "
      ]
     },
     "execution_count": 3,
     "metadata": {},
     "output_type": "execute_result"
    }
   ],
   "source": [
    "df = tit.write_results(\"~/Python/org-alk-sausage-machine/\"\n",
    "                           ,\"Master_Results_File_NEW.xlsx\")\n",
    "df"
   ]
  },
  {
   "cell_type": "code",
   "execution_count": null,
   "metadata": {},
   "outputs": [],
   "source": [
    "output_df = tit.df_outputs_to_add\n",
    "output_df"
   ]
  },
  {
   "cell_type": "code",
   "execution_count": null,
   "metadata": {},
   "outputs": [],
   "source": [
    "tit.df_outputs"
   ]
  },
  {
   "cell_type": "code",
   "execution_count": null,
   "metadata": {},
   "outputs": [],
   "source": [
    "import pandas as pd\n",
    "pd.concat([tit.df_outputs,output_df])"
   ]
  },
  {
   "cell_type": "code",
   "execution_count": null,
   "metadata": {},
   "outputs": [],
   "source": [
    "os.chdir(\"/Users/ct6g18/Python/org-alk-sausage-machine\")\n",
    "import SausageMachine\n",
    "tit2 = SausageMachine.OrgAlkTitration()\n",
    "tit2.read_master_spreadsheet(\"~/Python/org-alk-sausage-machine/04_11_21_Samples\"\n",
    "                            ,\"Master_Tit_File_04_11_21.xlsx\"\n",
    "                            ,\"10.11.21.DIAGEO.001.xlsx\")\n",
    "tit2.pipeline()\n",
    "tit2.repeat_minimise(1,1e-4,plot_results=False)\n",
    "tit2.repeat_minimise(2,1e-4,plot_results=False)\n",
    "tit2.repeat_minimise(3,1e-4,plot_results=False)\n",
    "tit2.repeat_minimise(4,1e-4,plot_results=True)"
   ]
  },
  {
   "cell_type": "code",
   "execution_count": null,
   "metadata": {},
   "outputs": [],
   "source": [
    "tit.outputs"
   ]
  },
  {
   "cell_type": "code",
   "execution_count": null,
   "metadata": {},
   "outputs": [],
   "source": [
    "tit2.outputs"
   ]
  },
  {
   "cell_type": "code",
   "execution_count": null,
   "metadata": {},
   "outputs": [],
   "source": [
    "tit2.select_output_params(batch_mode=True)"
   ]
  },
  {
   "cell_type": "code",
   "execution_count": null,
   "metadata": {},
   "outputs": [],
   "source": [
    "tit2.write_results(\"~/Python/org-alk-sausage-machine/\"\n",
    "                           ,\"Master_Results_File_NEW.xlsx\")"
   ]
  }
 ],
 "metadata": {
  "interpreter": {
   "hash": "a26fd3b99a1c0b098ebe51d8a228a6dd664c850e0a43e68cadfb7dacbe75e3f4"
  },
  "kernelspec": {
   "display_name": "Python 3.9.10 64-bit",
   "language": "python",
   "name": "python3"
  },
  "language_info": {
   "codemirror_mode": {
    "name": "ipython",
    "version": 3
   },
   "file_extension": ".py",
   "mimetype": "text/x-python",
   "name": "python",
   "nbconvert_exporter": "python",
   "pygments_lexer": "ipython3",
   "version": "3.9.10"
  },
  "orig_nbformat": 4
 },
 "nbformat": 4,
 "nbformat_minor": 2
}
