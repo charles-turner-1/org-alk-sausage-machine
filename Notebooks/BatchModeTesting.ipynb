{
 "cells": [
  {
   "cell_type": "code",
   "execution_count": null,
   "metadata": {},
   "outputs": [],
   "source": [
    "import os\n",
    "os.chdir(\"/Users/ct6g18/Python/org-alk-sausage-machine\")\n",
    "import SausageMachine\n",
    "tit = SausageMachine.OrgAlkTitrationBatch(\"~/Python/org-alk-sausage-machine/04_11_21_Samples\"\n",
    "                                         ,\"Master_Tit_file_04_11_21.xlsx\"\n",
    "                                         ,\"~/Python/org-alk-sausage-machine/04_11_21_Samples\"\n",
    "                                         ,\"Master_Results_File_04_11_21.xlsx\")\n",
    "tit.batch_calculate(SSR_frac_change_limit=1e-4,plot_results=False)"
   ]
  },
  {
   "cell_type": "code",
   "execution_count": null,
   "metadata": {},
   "outputs": [],
   "source": [
    "\n",
    "tit = SausageMachine.OrgAlkTitrationBatch(\"~/Python/org-alk-sausage-machine/04_11_21_Samples\"\n",
    "                                         ,\"perturbed_master_file.xlsx\"\n",
    "                                         ,\"~/Python/org-alk-sausage-machine/04_11_21_Samples\"\n",
    "                                         ,\"perturbed_results_file.xlsx\")\n",
    "tit.batch_calculate(SSR_frac_change_limit=1e-4,plot_results=False)\n"
   ]
  },
  {
   "cell_type": "markdown",
   "metadata": {},
   "source": [
    "From looking at the results of these two (ie. look at the results files), it appears to be running the whole lot, but overwriting the outputs. Lets create a truncated file too to test this theory.\n"
   ]
  },
  {
   "cell_type": "code",
   "execution_count": null,
   "metadata": {},
   "outputs": [],
   "source": [
    "\n",
    "import os\n",
    "os.chdir(\"/Users/ct6g18/Python/org-alk-sausage-machine\")\n",
    "import SausageMachine\n",
    "tit = SausageMachine.OrgAlkTitrationBatch(\"~/Python/org-alk-sausage-machine/04_11_21_Samples\"\n",
    "                                         ,\"truncated_master_file.xlsx\"\n",
    "                                         ,\"~/Python/org-alk-sausage-machine/04_11_21_Samples\"\n",
    "                                         ,\"truncated_results_file.xlsx\")\n",
    "tit.batch_calculate(SSR_frac_change_limit=1e-4,plot_results=False)\n"
   ]
  },
  {
   "cell_type": "markdown",
   "metadata": {},
   "source": [
    "Yup\n"
   ]
  }
 ],
 "metadata": {
  "interpreter": {
   "hash": "b0fa6594d8f4cbf19f97940f81e996739fb7646882a419484c72d19e05852a7e"
  },
  "kernelspec": {
   "display_name": "Python 3.9.10 64-bit",
   "language": "python",
   "name": "python3"
  },
  "language_info": {
   "codemirror_mode": {
    "name": "ipython",
    "version": 3
   },
   "file_extension": ".py",
   "mimetype": "text/x-python",
   "name": "python",
   "nbconvert_exporter": "python",
   "pygments_lexer": "ipython3",
   "version": "3.9.10"
  },
  "orig_nbformat": 4
 },
 "nbformat": 4,
 "nbformat_minor": 2
}
