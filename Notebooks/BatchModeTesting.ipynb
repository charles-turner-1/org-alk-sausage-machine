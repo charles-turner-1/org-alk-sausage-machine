{
 "cells": [
  {
   "cell_type": "code",
   "execution_count": null,
   "metadata": {},
   "outputs": [],
   "source": [
    "import os\n",
    "os.chdir(\"/Users/ct6g18/Python/org-alk-sausage-machine\")\n",
    "import SausageMachine\n",
    "tit1 = SausageMachine.OrgAlkTitrationBatch(\"~/Python/org-alk-sausage-machine/04_11_21_Samples\"\n",
    "                                         ,\"Master_Tit_file_04_11_21.xlsx\"\n",
    "                                         ,\"~/Python/org-alk-sausage-machine/04_11_21_Samples\"\n",
    "                                         ,\"Master_Results_File_04_11_21.xlsx\")\n",
    "tit1.batch_calculate(SSR_frac_change_limit=1e-4,plot_results=False)"
   ]
  },
  {
   "cell_type": "code",
   "execution_count": null,
   "metadata": {},
   "outputs": [],
   "source": [
    "\n",
    "tit2 = SausageMachine.OrgAlkTitrationBatch(\"~/Python/org-alk-sausage-machine/04_11_21_Samples\"\n",
    "                                         ,\"perturbed_master_file.xlsx\"\n",
    "                                         ,\"~/Python/org-alk-sausage-machine/04_11_21_Samples\"\n",
    "                                         ,\"perturbed_results_file.xlsx\")\n",
    "tit2.batch_calculate(SSR_frac_change_limit=1e-4,plot_results=False)\n"
   ]
  },
  {
   "cell_type": "markdown",
   "metadata": {},
   "source": [
    "From looking at the results of these two (ie. look at the results files), it appears to be running the whole lot, but overwriting the outputs. Lets create a truncated file too to test this theory.\n"
   ]
  },
  {
   "cell_type": "code",
   "execution_count": 1,
   "metadata": {},
   "outputs": [
    {
     "name": "stdout",
     "output_type": "stream",
     "text": [
      "Running titration 10.11.21.DIAGEO.001.xlsx\n",
      "TA :  3487.955731752753 µmol.kg-1\n",
      "OA :  201.5081220107929 µmol.kg-1\n",
      "Minimisation repeated 22 times in order to reach fractional change of 1e-08 in SSR\n",
      "Final SSR value = 0.19338\n",
      "X1 (initial): 105304.77576420538 | pK1(initial):  -0.6006203741269395 | H0 : -0.09806002642131713\n",
      "Minimisation repeated 1 times in order to reach fractional change of 1e-08 in SSR\n",
      "Final SSR value = 0.01501\n",
      "X1: 105302.9030099253 | pK1:  -0.6216194767747745 | Deviation % (g) NaOH : 1.1492449903208863\n",
      "Minimisation repeated 2 times in order to reach fractional change of 1e-08 in SSR\n",
      "Final SSR value = 0.00814\n",
      "X2: 91.21625682758783 | pK2:  7.724282990512264 | Deviation % (g) NaOH : 0.6229980441018255\n",
      "Minimisation repeated 1 times in order to reach fractional change of 1e-08 in SSR\n",
      "Final SSR value = 0.00814\n",
      "X3: 110.0344381950169 | pK3:  5.985610682171363 | Deviation % (g) NaOH : 0.6229980441018255\n",
      "Running titration 10.11.21.DIAGEO.002.xlsx\n",
      "TA :  3463.7945193166925 µmol.kg-1\n",
      "OA :  209.1956745801692 µmol.kg-1\n",
      "Minimisation repeated 1 times in order to reach fractional change of 0.0001 in SSR\n",
      "Final SSR value = 0.34360\n",
      "X1 (initial): 38212.56448645727 | pK1(initial):  -0.42002393249813236 | H0 : -0.03438014267780689\n",
      "Minimisation repeated 1 times in order to reach fractional change of 0.0001 in SSR\n",
      "Final SSR value = 0.01540\n",
      "X1: 38209.15953010933 | pK1:  -0.5055393415890223 | Deviation % (g) NaOH : 1.1580224466109728\n",
      "Minimisation repeated 1 times in order to reach fractional change of 0.0001 in SSR\n",
      "Final SSR value = 0.00343\n",
      "X2: 94.06114149605573 | pK2:  7.6183702002707685 | Deviation % (g) NaOH : 0.2580465121391502\n",
      "Minimisation repeated 1 times in order to reach fractional change of 0.0001 in SSR\n",
      "Final SSR value = 0.00343\n",
      "X3: 142.07515778273913 | pK3:  5.925389988034097 | Deviation % (g) NaOH : 0.25804651409326157\n",
      "Running titration 10.11.21.DIAGEO.003.xlsx\n",
      "TA :  3477.7861500782797 µmol.kg-1\n",
      "OA :  207.72623686314157 µmol.kg-1\n",
      "Minimisation repeated 2 times in order to reach fractional change of 1e-06 in SSR\n",
      "Final SSR value = 0.34027\n",
      "X1 (initial): 221457.5606162077 | pK1(initial):  -0.6446066602031792 | H0 : -0.20810396292741548\n",
      "Minimisation repeated 3 times in order to reach fractional change of 1e-06 in SSR\n",
      "Final SSR value = 0.00835\n",
      "X1: 221455.72611565067 | pK1:  -0.6563299523538655 | Deviation % (g) NaOH : 0.6124548620106992\n",
      "Minimisation repeated 1 times in order to reach fractional change of 1e-06 in SSR\n",
      "Final SSR value = 0.00456\n",
      "X2: 0.6259187335533448 | pK2:  nan | Deviation % (g) NaOH : 0.3346614441148567\n",
      "Minimisation repeated 1 times in order to reach fractional change of 1e-06 in SSR\n",
      "Final SSR value = 0.00456\n",
      "X3: 189.83961667986634 | pK3:  6.202539623666262 | Deviation % (g) NaOH : 0.33466148157268094\n"
     ]
    },
    {
     "name": "stderr",
     "output_type": "stream",
     "text": [
      "/Users/ct6g18/Python/org-alk-sausage-machine/SausageMachine.py:863: RuntimeWarning: invalid value encountered in log10\n",
      "  self.df_minimiser_outputs[\"pK2\"][minimiser_no] = -np.log10(self.K_X2)\n",
      "/Users/ct6g18/Python/org-alk-sausage-machine/SausageMachine.py:874: RuntimeWarning: invalid value encountered in log10\n",
      "  print('X2:', self.X2*10**6, \"| pK2: \", -np.log10(self.K_X2), '| Deviation % (g) NaOH :', (SSR/self.Vb)*100 )\n",
      "/Users/ct6g18/Python/org-alk-sausage-machine/SausageMachine.py:863: RuntimeWarning: invalid value encountered in log10\n",
      "  self.df_minimiser_outputs[\"pK2\"][minimiser_no] = -np.log10(self.K_X2)\n"
     ]
    }
   ],
   "source": [
    "\n",
    "import os\n",
    "os.chdir(\"/Users/ct6g18/Python/org-alk-sausage-machine\")\n",
    "import SausageMachine\n",
    "tit = SausageMachine.OrgAlkTitrationBatch(\"~/Python/org-alk-sausage-machine/04_11_21_Samples\"\n",
    "                                         ,\"truncated_master_file.xlsx\"\n",
    "                                         ,\"~/Python/org-alk-sausage-machine/04_11_21_Samples\"\n",
    "                                         ,\"truncated_results_file.xlsx\")\n",
    "tit.batch_calculate(SSR_frac_change_limit=[1e-8,1e-4,1e-6],plot_results=False)\n"
   ]
  },
  {
   "cell_type": "markdown",
   "metadata": {},
   "source": [
    "Yup\n"
   ]
  },
  {
   "cell_type": "code",
   "execution_count": null,
   "metadata": {},
   "outputs": [],
   "source": [
    "# The following tetst will instead do the exact same thing as what's going on in \n",
    "# the batch mode calculation, except I'm not going to run it in batch mode: I'll \n",
    "# just run each by hand\n",
    "import os\n",
    "import numpy as np\n",
    "os.chdir(\"/Users/ct6g18/Python/org-alk-sausage-machine\")\n",
    "import SausageMachine\n",
    "\n",
    "tit1 = SausageMachine.OrgAlkTitration()\n",
    "tit1.read_master_spreadsheet(\"~/Python/org-alk-sausage-machine/04_11_21_Samples\"\n",
    "                             ,\"truncated_master_file.xlsx\",\"10.11.21.DIAGEO.001.xlsx\")\n",
    "tit1.pipeline()\n",
    "for i in np.arange(1,5):\n",
    "    tit1.repeat_minimise(1,1e-4,plot_results=False)\n",
    "tit1.select_output_params(batch_mode=True)\n",
    "#tit1.write_results(\"~/Python/org-alk-sausage-machine/04_11_21_Samples\"\n",
    "#                  ,\"truncated_results_file.xlsx\")\n",
    "\n",
    "tit1.outputs\n"
   ]
  },
  {
   "cell_type": "code",
   "execution_count": null,
   "metadata": {},
   "outputs": [],
   "source": [
    "\n",
    "tit2 = SausageMachine.OrgAlkTitration()\n",
    "tit2.read_master_spreadsheet(\"~/Python/org-alk-sausage-machine/04_11_21_Samples\"\n",
    "                             ,\"truncated_master_file.xlsx\",\"10.11.21.DIAGEO.002.xlsx\")\n",
    "tit2.pipeline()\n",
    "for i in np.arange(1,5):\n",
    "    tit2.repeat_minimise(1,1e-4,plot_results=False)\n",
    "tit2.select_output_params(batch_mode=True)\n",
    "#tit2.write_results(\"~/Python/org-alk-sausage-machine/04_11_21_Samples\"\n",
    "#                  ,\"truncated_results_file.xlsx\")\n",
    "tit2.outputs"
   ]
  },
  {
   "cell_type": "code",
   "execution_count": null,
   "metadata": {},
   "outputs": [],
   "source": [
    "tit1.TA_filename\n",
    "tit1.outputs"
   ]
  },
  {
   "cell_type": "code",
   "execution_count": null,
   "metadata": {},
   "outputs": [],
   "source": [
    "tit2.TA_filename\n",
    "tit2.outputs"
   ]
  },
  {
   "cell_type": "code",
   "execution_count": null,
   "metadata": {},
   "outputs": [],
   "source": [
    "import os\n",
    "os.chdir(\"/Users/ct6g18/Python/org-alk-sausage-machine\")\n",
    "import SausageMachine\n",
    "tit1 = SausageMachine.OrgAlkTitrationBatch(\"~/Python/org-alk-sausage-machine/04_11_21_Samples\"\n",
    "                                         ,\"Master_Liffey_tits.xlsx\"\n",
    "                                         ,\"~/Python/org-alk-sausage-machine/04_11_21_Samples\"\n",
    "                                         ,\"Master_Liffey_results.xlsx\")\n",
    "tit1.batch_calculate(SSR_frac_change_limit=1e-6,plot_results=False)"
   ]
  }
 ],
 "metadata": {
  "interpreter": {
   "hash": "b0fa6594d8f4cbf19f97940f81e996739fb7646882a419484c72d19e05852a7e"
  },
  "kernelspec": {
   "display_name": "Python 3.9.10 64-bit",
   "language": "python",
   "name": "python3"
  },
  "language_info": {
   "codemirror_mode": {
    "name": "ipython",
    "version": 3
   },
   "file_extension": ".py",
   "mimetype": "text/x-python",
   "name": "python",
   "nbconvert_exporter": "python",
   "pygments_lexer": "ipython3",
   "version": "3.9.10"
  },
  "orig_nbformat": 4
 },
 "nbformat": 4,
 "nbformat_minor": 2
}
