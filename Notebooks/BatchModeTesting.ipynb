{
 "cells": [
  {
   "cell_type": "code",
   "execution_count": 3,
   "metadata": {},
   "outputs": [
    {
     "name": "stdout",
     "output_type": "stream",
     "text": [
      "Running titration 01.09.21.50UM.001_PROCESSED.xlsx\n",
      "TA :  83.84526363461985 µmol.kg-1\n",
      "OA :  55.945681029064296 µmol.kg-1\n",
      "1e-08\n",
      "Minimisation repeated 4 times in order to reach fractional change of 1e-08 in SSR\n",
      "Final SSR value = 0.00383\n",
      "X1 (initial): 90.7777132532761 | pK1(initial):  5.259797138994193 | H0 : 0.0006988474973753943\n",
      "Minimisation repeated 2 times in order to reach fractional change of 1e-08 in SSR\n",
      "Final SSR value = 0.00100\n",
      "X1: 49.18227265827269 | pK1:  4.888739345535772 | Deviation % (g) NaOH : 0.21083778325131372\n",
      "Minimisation repeated 1 times in order to reach fractional change of 1e-08 in SSR\n",
      "Final SSR value = 0.00100\n",
      "X2: -0.11856704926529067 | pK2:  nan | Deviation % (g) NaOH : 0.2104337895370222\n",
      "Minimisation repeated 2 times in order to reach fractional change of 1e-08 in SSR\n",
      "Final SSR value = 0.00100\n",
      "X3: 206.4969034877071 | pK3:  10.201817007427598 | Deviation % (g) NaOH : 0.21043343897405525\n",
      "Running titration 01.09.21.50UM.002_PROCESSED.xlsx\n"
     ]
    },
    {
     "name": "stderr",
     "output_type": "stream",
     "text": [
      "/Users/ct6g18/Python/org-alk-sausage-machine/SausageMachine.py:865: RuntimeWarning: invalid value encountered in log10\n",
      "  self.df_minimiser_outputs[\"pK2\"][minimiser_no] = -np.log10(self.K_X2)\n",
      "/Users/ct6g18/Python/org-alk-sausage-machine/SausageMachine.py:876: RuntimeWarning: invalid value encountered in log10\n",
      "  print('X2:', self.X2*10**6, \"| pK2: \", -np.log10(self.K_X2), '| Deviation % (g) NaOH :', (SSR/self.Vb)*100 )\n",
      "/Users/ct6g18/Python/org-alk-sausage-machine/SausageMachine.py:865: RuntimeWarning: invalid value encountered in log10\n",
      "  self.df_minimiser_outputs[\"pK2\"][minimiser_no] = -np.log10(self.K_X2)\n"
     ]
    },
    {
     "name": "stdout",
     "output_type": "stream",
     "text": [
      "TA :  81.89069676430981 µmol.kg-1\n",
      "OA :  52.80770140718645 µmol.kg-1\n",
      "0.0001\n",
      "Minimisation repeated 5 times in order to reach fractional change of 0.0001 in SSR\n",
      "Final SSR value = 0.53665\n",
      "X1 (initial): 13947.999690632429 | pK1(initial):  7.728664026391713 | H0 : 0.000704789715952443\n",
      "Minimisation repeated 10 times in order to reach fractional change of 0.0001 in SSR\n",
      "Final SSR value = 26.93190\n",
      "X1: -239362.52505444843 | pK1:  7.538444877038788 | Deviation % (g) NaOH : 5677.941106072153\n",
      "Minimisation repeated 1 times in order to reach fractional change of 0.0001 in SSR\n",
      "Final SSR value = 0.00338\n",
      "X2: 227429.4101527297 | pK2:  7.512511567301534 | Deviation % (g) NaOH : 0.7124824441521904\n",
      "Minimisation repeated 1 times in order to reach fractional change of 0.0001 in SSR\n",
      "Final SSR value = 0.00241\n",
      "X3: 4.121677698944244 | pK3:  -3.384337091098328 | Deviation % (g) NaOH : 0.5071997880035827\n",
      "Running titration 01.09.21.50UM.003_PROCESSED.xlsx\n",
      "TA :  68.5745443015133 µmol.kg-1\n",
      "OA :  50.44337779213091 µmol.kg-1\n",
      "1e-06\n",
      "Minimisation repeated 9 times in order to reach fractional change of 1e-06 in SSR\n",
      "Final SSR value = 0.02367\n",
      "X1 (initial): 313.0557045298854 | pK1(initial):  5.964092541455387 | H0 : 0.0007174634465868938\n",
      "Minimisation repeated 85 times in order to reach fractional change of 1e-06 in SSR\n",
      "Final SSR value = 1.45885\n",
      "X1: -247353.74750385532 | pK1:  7.43478449457637 | Deviation % (g) NaOH : 302.4028400948659\n",
      "Minimisation repeated 5 times in order to reach fractional change of 1e-06 in SSR\n",
      "Final SSR value = 0.00185\n",
      "X2: 2280.290147728559 | pK2:  6.245959085320488 | Deviation % (g) NaOH : 0.3843277139566463\n",
      "Minimisation repeated 1 times in order to reach fractional change of 1e-06 in SSR\n",
      "Final SSR value = 0.00185\n",
      "X3: 788561.0695067085 | pK3:  7.990934214151545 | Deviation % (g) NaOH : 0.38427487576142233\n"
     ]
    }
   ],
   "source": [
    "import os\n",
    "os.chdir(\"/Users/ct6g18/Python/org-alk-sausage-machine\")\n",
    "import SausageMachine\n",
    "tit = SausageMachine.OrgAlkTitrationBatch(\"~/Python/org-alk-sausage-machine/Test_Spreadsheets\"\n",
    "                                         ,\"Master_Tit_file_updated.xlsx\"\n",
    "                                         ,\"~/Python/org-alk-sausage-machine/\"\n",
    "                                         ,\"Master_Results_File_NEW.xlsx\")\n",
    "tit.batch_calculate(SSR_frac_change_limit=[1e-8,1e-4,1e-6],plot_results=False)"
   ]
  }
 ],
 "metadata": {
  "interpreter": {
   "hash": "b0fa6594d8f4cbf19f97940f81e996739fb7646882a419484c72d19e05852a7e"
  },
  "kernelspec": {
   "display_name": "Python 3.9.10 64-bit",
   "language": "python",
   "name": "python3"
  },
  "language_info": {
   "codemirror_mode": {
    "name": "ipython",
    "version": 3
   },
   "file_extension": ".py",
   "mimetype": "text/x-python",
   "name": "python",
   "nbconvert_exporter": "python",
   "pygments_lexer": "ipython3",
   "version": "3.9.10"
  },
  "orig_nbformat": 4
 },
 "nbformat": 4,
 "nbformat_minor": 2
}
