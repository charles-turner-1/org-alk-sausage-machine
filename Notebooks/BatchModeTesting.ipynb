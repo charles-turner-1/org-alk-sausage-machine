{
 "cells": [
  {
   "cell_type": "code",
   "execution_count": 1,
   "metadata": {},
   "outputs": [
    {
     "name": "stdout",
     "output_type": "stream",
     "text": [
      "Running titration 01.09.21.50UM.001_PROCESSED.xlsx\n",
      "TA :  83.84526363461985 µmol.kg-1\n",
      "OA :  55.945681029064296 µmol.kg-1\n",
      "1e-08\n",
      "Minimisation repeated 4 times in order to reach fractional change of 1e-08 in SSR\n",
      "Final SSR value = 0.00383\n",
      "X1 (initial): 90.7777132532761 | pK1(initial):  5.259797138994193 | H0 : 0.0006988474973753943\n",
      "Minimisation repeated 2 times in order to reach fractional change of 1e-08 in SSR\n",
      "Final SSR value = 0.00100\n",
      "X1: 49.18227265827269 | pK1:  4.888739345535772 | Deviation % (g) NaOH : 0.21083778325131372\n",
      "Minimisation repeated 1 times in order to reach fractional change of 1e-08 in SSR\n",
      "Final SSR value = 0.00100\n",
      "X2: -0.11856704926529067 | pK2:  nan | Deviation % (g) NaOH : 0.2104337895370222\n",
      "Minimisation repeated 2 times in order to reach fractional change of 1e-08 in SSR\n",
      "Final SSR value = 0.00100\n",
      "X3: 206.4969034877071 | pK3:  10.201817007427598 | Deviation % (g) NaOH : 0.21043343897405525\n",
      "Running titration 01.09.21.50UM.002_PROCESSED.xlsx\n"
     ]
    },
    {
     "name": "stderr",
     "output_type": "stream",
     "text": [
      "/Users/ct6g18/Python/org-alk-sausage-machine/SausageMachine.py:865: RuntimeWarning: invalid value encountered in log10\n",
      "  self.df_minimiser_outputs[\"pK2\"][minimiser_no] = -np.log10(self.K_X2)\n",
      "/Users/ct6g18/Python/org-alk-sausage-machine/SausageMachine.py:876: RuntimeWarning: invalid value encountered in log10\n",
      "  print('X2:', self.X2*10**6, \"| pK2: \", -np.log10(self.K_X2), '| Deviation % (g) NaOH :', (SSR/self.Vb)*100 )\n",
      "/Users/ct6g18/Python/org-alk-sausage-machine/SausageMachine.py:865: RuntimeWarning: invalid value encountered in log10\n",
      "  self.df_minimiser_outputs[\"pK2\"][minimiser_no] = -np.log10(self.K_X2)\n"
     ]
    },
    {
     "name": "stdout",
     "output_type": "stream",
     "text": [
      "TA :  81.89069676430981 µmol.kg-1\n",
      "OA :  52.80770140718645 µmol.kg-1\n",
      "0.0001\n",
      "Minimisation repeated 5 times in order to reach fractional change of 0.0001 in SSR\n",
      "Final SSR value = 0.53665\n",
      "X1 (initial): 13947.999690632429 | pK1(initial):  7.728664026391713 | H0 : 0.000704789715952443\n",
      "Minimisation repeated 10 times in order to reach fractional change of 0.0001 in SSR\n",
      "Final SSR value = 26.93190\n",
      "X1: -239362.52505444843 | pK1:  7.538444877038788 | Deviation % (g) NaOH : 5677.941106072153\n",
      "Minimisation repeated 1 times in order to reach fractional change of 0.0001 in SSR\n",
      "Final SSR value = 0.00338\n",
      "X2: 227429.4101527297 | pK2:  7.512511567301534 | Deviation % (g) NaOH : 0.7124824441521904\n",
      "Minimisation repeated 1 times in order to reach fractional change of 0.0001 in SSR\n",
      "Final SSR value = 0.00241\n",
      "X3: 4.121677698944244 | pK3:  -3.384337091098328 | Deviation % (g) NaOH : 0.5071997880035827\n",
      "Running titration 01.09.21.50UM.003_PROCESSED.xlsx\n"
     ]
    },
    {
     "ename": "FileNotFoundError",
     "evalue": "[Errno 2] No such file or directory: '/Users/ct6g18/Python/org-alk-sausage-machine/Test_Spreadsheets/01.09.21.50UM.003_PROCESSED.xlsx'",
     "output_type": "error",
     "traceback": [
      "\u001b[0;31m---------------------------------------------------------------------------\u001b[0m",
      "\u001b[0;31mFileNotFoundError\u001b[0m                         Traceback (most recent call last)",
      "\u001b[1;32m/Users/ct6g18/Python/org-alk-sausage-machine/Notebooks/BatchModeTesting.ipynb Cell 1'\u001b[0m in \u001b[0;36m<module>\u001b[0;34m\u001b[0m\n\u001b[1;32m      <a href='vscode-notebook-cell:/Users/ct6g18/Python/org-alk-sausage-machine/Notebooks/BatchModeTesting.ipynb#ch0000000?line=2'>3</a>\u001b[0m \u001b[39mimport\u001b[39;00m \u001b[39mSausageMachine\u001b[39;00m\n\u001b[1;32m      <a href='vscode-notebook-cell:/Users/ct6g18/Python/org-alk-sausage-machine/Notebooks/BatchModeTesting.ipynb#ch0000000?line=3'>4</a>\u001b[0m tit \u001b[39m=\u001b[39m SausageMachine\u001b[39m.\u001b[39mOrgAlkTitrationBatch(\u001b[39m\"\u001b[39m\u001b[39m~/Python/org-alk-sausage-machine/Test_Spreadsheets\u001b[39m\u001b[39m\"\u001b[39m\n\u001b[1;32m      <a href='vscode-notebook-cell:/Users/ct6g18/Python/org-alk-sausage-machine/Notebooks/BatchModeTesting.ipynb#ch0000000?line=4'>5</a>\u001b[0m                                          ,\u001b[39m\"\u001b[39m\u001b[39mMaster_Tit_file_updated.xlsx\u001b[39m\u001b[39m\"\u001b[39m\n\u001b[1;32m      <a href='vscode-notebook-cell:/Users/ct6g18/Python/org-alk-sausage-machine/Notebooks/BatchModeTesting.ipynb#ch0000000?line=5'>6</a>\u001b[0m                                          ,\u001b[39m\"\u001b[39m\u001b[39m~/Python/org-alk-sausage-machine/\u001b[39m\u001b[39m\"\u001b[39m\n\u001b[1;32m      <a href='vscode-notebook-cell:/Users/ct6g18/Python/org-alk-sausage-machine/Notebooks/BatchModeTesting.ipynb#ch0000000?line=6'>7</a>\u001b[0m                                          ,\u001b[39m\"\u001b[39m\u001b[39mMaster_Results_File_New.xlsx\u001b[39m\u001b[39m\"\u001b[39m)\n\u001b[0;32m----> <a href='vscode-notebook-cell:/Users/ct6g18/Python/org-alk-sausage-machine/Notebooks/BatchModeTesting.ipynb#ch0000000?line=7'>8</a>\u001b[0m tit\u001b[39m.\u001b[39;49mbatch_calculate(SSR_frac_change_limit\u001b[39m=\u001b[39;49m[\u001b[39m1e-8\u001b[39;49m,\u001b[39m1e-4\u001b[39;49m,\u001b[39m1e-8\u001b[39;49m],plot_results\u001b[39m=\u001b[39;49m\u001b[39mFalse\u001b[39;49;00m)\n",
      "File \u001b[0;32m~/Python/org-alk-sausage-machine/SausageMachine.py:1036\u001b[0m, in \u001b[0;36mOrgAlkTitrationBatch.batch_calculate\u001b[0;34m(self, SSR_frac_change_limit, plot_results)\u001b[0m\n\u001b[1;32m   <a href='file:///Users/ct6g18/Python/org-alk-sausage-machine/SausageMachine.py?line=1031'>1032</a>\u001b[0m titration \u001b[39m=\u001b[39m OrgAlkTitration()\n\u001b[1;32m   <a href='file:///Users/ct6g18/Python/org-alk-sausage-machine/SausageMachine.py?line=1032'>1033</a>\u001b[0m titration\u001b[39m.\u001b[39mread_master_spreadsheet(\u001b[39mself\u001b[39m\u001b[39m.\u001b[39mmaster_spreadsheet_path\n\u001b[1;32m   <a href='file:///Users/ct6g18/Python/org-alk-sausage-machine/SausageMachine.py?line=1033'>1034</a>\u001b[0m                                  ,\u001b[39mself\u001b[39m\u001b[39m.\u001b[39mmaster_spreadsheet_filename\n\u001b[1;32m   <a href='file:///Users/ct6g18/Python/org-alk-sausage-machine/SausageMachine.py?line=1034'>1035</a>\u001b[0m                                  ,titration_name[\u001b[39m1\u001b[39m]) \n\u001b[0;32m-> <a href='file:///Users/ct6g18/Python/org-alk-sausage-machine/SausageMachine.py?line=1035'>1036</a>\u001b[0m titration\u001b[39m.\u001b[39;49mpipeline()\n\u001b[1;32m   <a href='file:///Users/ct6g18/Python/org-alk-sausage-machine/SausageMachine.py?line=1036'>1037</a>\u001b[0m \u001b[39mprint\u001b[39m(SSR_frac_change_limit[titration_name[\u001b[39m0\u001b[39m]])\n\u001b[1;32m   <a href='file:///Users/ct6g18/Python/org-alk-sausage-machine/SausageMachine.py?line=1037'>1038</a>\u001b[0m \u001b[39mfor\u001b[39;00m i \u001b[39min\u001b[39;00m np\u001b[39m.\u001b[39marange(\u001b[39m1\u001b[39m,\u001b[39m5\u001b[39m):\n",
      "File \u001b[0;32m~/Python/org-alk-sausage-machine/SausageMachine.py:478\u001b[0m, in \u001b[0;36mOrgAlkTitration.pipeline\u001b[0;34m(self)\u001b[0m\n\u001b[1;32m    <a href='file:///Users/ct6g18/Python/org-alk-sausage-machine/SausageMachine.py?line=475'>476</a>\u001b[0m \u001b[39mdef\u001b[39;00m \u001b[39mpipeline\u001b[39m(\u001b[39mself\u001b[39m):\n\u001b[1;32m    <a href='file:///Users/ct6g18/Python/org-alk-sausage-machine/SausageMachine.py?line=476'>477</a>\u001b[0m     \u001b[39mif\u001b[39;00m \u001b[39mself\u001b[39m\u001b[39m.\u001b[39mmaster_spreadsheet_used \u001b[39mis\u001b[39;00m \u001b[39mTrue\u001b[39;00m:\n\u001b[0;32m--> <a href='file:///Users/ct6g18/Python/org-alk-sausage-machine/SausageMachine.py?line=477'>478</a>\u001b[0m         \u001b[39mself\u001b[39;49m\u001b[39m.\u001b[39;49mread_excel_spreadsheets()\n\u001b[1;32m    <a href='file:///Users/ct6g18/Python/org-alk-sausage-machine/SausageMachine.py?line=478'>479</a>\u001b[0m     \u001b[39mself\u001b[39m\u001b[39m.\u001b[39mset_concentrations()\n\u001b[1;32m    <a href='file:///Users/ct6g18/Python/org-alk-sausage-machine/SausageMachine.py?line=479'>480</a>\u001b[0m     \u001b[39mself\u001b[39m\u001b[39m.\u001b[39mextract_TA_data()\n",
      "File \u001b[0;32m~/Python/org-alk-sausage-machine/SausageMachine.py:208\u001b[0m, in \u001b[0;36mOrgAlkTitration.read_excel_spreadsheets\u001b[0;34m(self, TA_filename, NaOH_filename, OA_filename)\u001b[0m\n\u001b[1;32m    <a href='file:///Users/ct6g18/Python/org-alk-sausage-machine/SausageMachine.py?line=204'>205</a>\u001b[0m NaOH_filename_full \u001b[39m=\u001b[39m os\u001b[39m.\u001b[39mpath\u001b[39m.\u001b[39mjoin(\u001b[39mself\u001b[39m\u001b[39m.\u001b[39mdataset_path,NaOH_filename)\n\u001b[1;32m    <a href='file:///Users/ct6g18/Python/org-alk-sausage-machine/SausageMachine.py?line=205'>206</a>\u001b[0m OA_filename_full \u001b[39m=\u001b[39m os\u001b[39m.\u001b[39mpath\u001b[39m.\u001b[39mjoin(\u001b[39mself\u001b[39m\u001b[39m.\u001b[39mdataset_path,OA_filename)\n\u001b[0;32m--> <a href='file:///Users/ct6g18/Python/org-alk-sausage-machine/SausageMachine.py?line=207'>208</a>\u001b[0m \u001b[39mself\u001b[39m\u001b[39m.\u001b[39mdf_TA \u001b[39m=\u001b[39m pd\u001b[39m.\u001b[39;49mread_excel(TA_filename_full)\n\u001b[1;32m    <a href='file:///Users/ct6g18/Python/org-alk-sausage-machine/SausageMachine.py?line=208'>209</a>\u001b[0m \u001b[39mself\u001b[39m\u001b[39m.\u001b[39mdf_NaOH \u001b[39m=\u001b[39m pd\u001b[39m.\u001b[39mread_excel(NaOH_filename_full)\n\u001b[1;32m    <a href='file:///Users/ct6g18/Python/org-alk-sausage-machine/SausageMachine.py?line=209'>210</a>\u001b[0m \u001b[39mself\u001b[39m\u001b[39m.\u001b[39mdf_OA \u001b[39m=\u001b[39m pd\u001b[39m.\u001b[39mread_excel(OA_filename_full)\n",
      "File \u001b[0;32m/opt/homebrew/lib/python3.9/site-packages/pandas/util/_decorators.py:311\u001b[0m, in \u001b[0;36mdeprecate_nonkeyword_arguments.<locals>.decorate.<locals>.wrapper\u001b[0;34m(*args, **kwargs)\u001b[0m\n\u001b[1;32m    <a href='file:///opt/homebrew/lib/python3.9/site-packages/pandas/util/_decorators.py?line=304'>305</a>\u001b[0m \u001b[39mif\u001b[39;00m \u001b[39mlen\u001b[39m(args) \u001b[39m>\u001b[39m num_allow_args:\n\u001b[1;32m    <a href='file:///opt/homebrew/lib/python3.9/site-packages/pandas/util/_decorators.py?line=305'>306</a>\u001b[0m     warnings\u001b[39m.\u001b[39mwarn(\n\u001b[1;32m    <a href='file:///opt/homebrew/lib/python3.9/site-packages/pandas/util/_decorators.py?line=306'>307</a>\u001b[0m         msg\u001b[39m.\u001b[39mformat(arguments\u001b[39m=\u001b[39marguments),\n\u001b[1;32m    <a href='file:///opt/homebrew/lib/python3.9/site-packages/pandas/util/_decorators.py?line=307'>308</a>\u001b[0m         \u001b[39mFutureWarning\u001b[39;00m,\n\u001b[1;32m    <a href='file:///opt/homebrew/lib/python3.9/site-packages/pandas/util/_decorators.py?line=308'>309</a>\u001b[0m         stacklevel\u001b[39m=\u001b[39mstacklevel,\n\u001b[1;32m    <a href='file:///opt/homebrew/lib/python3.9/site-packages/pandas/util/_decorators.py?line=309'>310</a>\u001b[0m     )\n\u001b[0;32m--> <a href='file:///opt/homebrew/lib/python3.9/site-packages/pandas/util/_decorators.py?line=310'>311</a>\u001b[0m \u001b[39mreturn\u001b[39;00m func(\u001b[39m*\u001b[39;49margs, \u001b[39m*\u001b[39;49m\u001b[39m*\u001b[39;49mkwargs)\n",
      "File \u001b[0;32m/opt/homebrew/lib/python3.9/site-packages/pandas/io/excel/_base.py:457\u001b[0m, in \u001b[0;36mread_excel\u001b[0;34m(io, sheet_name, header, names, index_col, usecols, squeeze, dtype, engine, converters, true_values, false_values, skiprows, nrows, na_values, keep_default_na, na_filter, verbose, parse_dates, date_parser, thousands, decimal, comment, skipfooter, convert_float, mangle_dupe_cols, storage_options)\u001b[0m\n\u001b[1;32m    <a href='file:///opt/homebrew/lib/python3.9/site-packages/pandas/io/excel/_base.py?line=454'>455</a>\u001b[0m \u001b[39mif\u001b[39;00m \u001b[39mnot\u001b[39;00m \u001b[39misinstance\u001b[39m(io, ExcelFile):\n\u001b[1;32m    <a href='file:///opt/homebrew/lib/python3.9/site-packages/pandas/io/excel/_base.py?line=455'>456</a>\u001b[0m     should_close \u001b[39m=\u001b[39m \u001b[39mTrue\u001b[39;00m\n\u001b[0;32m--> <a href='file:///opt/homebrew/lib/python3.9/site-packages/pandas/io/excel/_base.py?line=456'>457</a>\u001b[0m     io \u001b[39m=\u001b[39m ExcelFile(io, storage_options\u001b[39m=\u001b[39;49mstorage_options, engine\u001b[39m=\u001b[39;49mengine)\n\u001b[1;32m    <a href='file:///opt/homebrew/lib/python3.9/site-packages/pandas/io/excel/_base.py?line=457'>458</a>\u001b[0m \u001b[39melif\u001b[39;00m engine \u001b[39mand\u001b[39;00m engine \u001b[39m!=\u001b[39m io\u001b[39m.\u001b[39mengine:\n\u001b[1;32m    <a href='file:///opt/homebrew/lib/python3.9/site-packages/pandas/io/excel/_base.py?line=458'>459</a>\u001b[0m     \u001b[39mraise\u001b[39;00m \u001b[39mValueError\u001b[39;00m(\n\u001b[1;32m    <a href='file:///opt/homebrew/lib/python3.9/site-packages/pandas/io/excel/_base.py?line=459'>460</a>\u001b[0m         \u001b[39m\"\u001b[39m\u001b[39mEngine should not be specified when passing \u001b[39m\u001b[39m\"\u001b[39m\n\u001b[1;32m    <a href='file:///opt/homebrew/lib/python3.9/site-packages/pandas/io/excel/_base.py?line=460'>461</a>\u001b[0m         \u001b[39m\"\u001b[39m\u001b[39man ExcelFile - ExcelFile already has the engine set\u001b[39m\u001b[39m\"\u001b[39m\n\u001b[1;32m    <a href='file:///opt/homebrew/lib/python3.9/site-packages/pandas/io/excel/_base.py?line=461'>462</a>\u001b[0m     )\n",
      "File \u001b[0;32m/opt/homebrew/lib/python3.9/site-packages/pandas/io/excel/_base.py:1376\u001b[0m, in \u001b[0;36mExcelFile.__init__\u001b[0;34m(self, path_or_buffer, engine, storage_options)\u001b[0m\n\u001b[1;32m   <a href='file:///opt/homebrew/lib/python3.9/site-packages/pandas/io/excel/_base.py?line=1373'>1374</a>\u001b[0m     ext \u001b[39m=\u001b[39m \u001b[39m\"\u001b[39m\u001b[39mxls\u001b[39m\u001b[39m\"\u001b[39m\n\u001b[1;32m   <a href='file:///opt/homebrew/lib/python3.9/site-packages/pandas/io/excel/_base.py?line=1374'>1375</a>\u001b[0m \u001b[39melse\u001b[39;00m:\n\u001b[0;32m-> <a href='file:///opt/homebrew/lib/python3.9/site-packages/pandas/io/excel/_base.py?line=1375'>1376</a>\u001b[0m     ext \u001b[39m=\u001b[39m inspect_excel_format(\n\u001b[1;32m   <a href='file:///opt/homebrew/lib/python3.9/site-packages/pandas/io/excel/_base.py?line=1376'>1377</a>\u001b[0m         content_or_path\u001b[39m=\u001b[39;49mpath_or_buffer, storage_options\u001b[39m=\u001b[39;49mstorage_options\n\u001b[1;32m   <a href='file:///opt/homebrew/lib/python3.9/site-packages/pandas/io/excel/_base.py?line=1377'>1378</a>\u001b[0m     )\n\u001b[1;32m   <a href='file:///opt/homebrew/lib/python3.9/site-packages/pandas/io/excel/_base.py?line=1378'>1379</a>\u001b[0m     \u001b[39mif\u001b[39;00m ext \u001b[39mis\u001b[39;00m \u001b[39mNone\u001b[39;00m:\n\u001b[1;32m   <a href='file:///opt/homebrew/lib/python3.9/site-packages/pandas/io/excel/_base.py?line=1379'>1380</a>\u001b[0m         \u001b[39mraise\u001b[39;00m \u001b[39mValueError\u001b[39;00m(\n\u001b[1;32m   <a href='file:///opt/homebrew/lib/python3.9/site-packages/pandas/io/excel/_base.py?line=1380'>1381</a>\u001b[0m             \u001b[39m\"\u001b[39m\u001b[39mExcel file format cannot be determined, you must specify \u001b[39m\u001b[39m\"\u001b[39m\n\u001b[1;32m   <a href='file:///opt/homebrew/lib/python3.9/site-packages/pandas/io/excel/_base.py?line=1381'>1382</a>\u001b[0m             \u001b[39m\"\u001b[39m\u001b[39man engine manually.\u001b[39m\u001b[39m\"\u001b[39m\n\u001b[1;32m   <a href='file:///opt/homebrew/lib/python3.9/site-packages/pandas/io/excel/_base.py?line=1382'>1383</a>\u001b[0m         )\n",
      "File \u001b[0;32m/opt/homebrew/lib/python3.9/site-packages/pandas/io/excel/_base.py:1250\u001b[0m, in \u001b[0;36minspect_excel_format\u001b[0;34m(content_or_path, storage_options)\u001b[0m\n\u001b[1;32m   <a href='file:///opt/homebrew/lib/python3.9/site-packages/pandas/io/excel/_base.py?line=1246'>1247</a>\u001b[0m \u001b[39mif\u001b[39;00m \u001b[39misinstance\u001b[39m(content_or_path, \u001b[39mbytes\u001b[39m):\n\u001b[1;32m   <a href='file:///opt/homebrew/lib/python3.9/site-packages/pandas/io/excel/_base.py?line=1247'>1248</a>\u001b[0m     content_or_path \u001b[39m=\u001b[39m BytesIO(content_or_path)\n\u001b[0;32m-> <a href='file:///opt/homebrew/lib/python3.9/site-packages/pandas/io/excel/_base.py?line=1249'>1250</a>\u001b[0m \u001b[39mwith\u001b[39;00m get_handle(\n\u001b[1;32m   <a href='file:///opt/homebrew/lib/python3.9/site-packages/pandas/io/excel/_base.py?line=1250'>1251</a>\u001b[0m     content_or_path, \u001b[39m\"\u001b[39;49m\u001b[39mrb\u001b[39;49m\u001b[39m\"\u001b[39;49m, storage_options\u001b[39m=\u001b[39;49mstorage_options, is_text\u001b[39m=\u001b[39;49m\u001b[39mFalse\u001b[39;49;00m\n\u001b[1;32m   <a href='file:///opt/homebrew/lib/python3.9/site-packages/pandas/io/excel/_base.py?line=1251'>1252</a>\u001b[0m ) \u001b[39mas\u001b[39;00m handle:\n\u001b[1;32m   <a href='file:///opt/homebrew/lib/python3.9/site-packages/pandas/io/excel/_base.py?line=1252'>1253</a>\u001b[0m     stream \u001b[39m=\u001b[39m handle\u001b[39m.\u001b[39mhandle\n\u001b[1;32m   <a href='file:///opt/homebrew/lib/python3.9/site-packages/pandas/io/excel/_base.py?line=1253'>1254</a>\u001b[0m     stream\u001b[39m.\u001b[39mseek(\u001b[39m0\u001b[39m)\n",
      "File \u001b[0;32m/opt/homebrew/lib/python3.9/site-packages/pandas/io/common.py:798\u001b[0m, in \u001b[0;36mget_handle\u001b[0;34m(path_or_buf, mode, encoding, compression, memory_map, is_text, errors, storage_options)\u001b[0m\n\u001b[1;32m    <a href='file:///opt/homebrew/lib/python3.9/site-packages/pandas/io/common.py?line=788'>789</a>\u001b[0m         handle \u001b[39m=\u001b[39m \u001b[39mopen\u001b[39m(\n\u001b[1;32m    <a href='file:///opt/homebrew/lib/python3.9/site-packages/pandas/io/common.py?line=789'>790</a>\u001b[0m             handle,\n\u001b[1;32m    <a href='file:///opt/homebrew/lib/python3.9/site-packages/pandas/io/common.py?line=790'>791</a>\u001b[0m             ioargs\u001b[39m.\u001b[39mmode,\n\u001b[0;32m   (...)\u001b[0m\n\u001b[1;32m    <a href='file:///opt/homebrew/lib/python3.9/site-packages/pandas/io/common.py?line=793'>794</a>\u001b[0m             newline\u001b[39m=\u001b[39m\u001b[39m\"\u001b[39m\u001b[39m\"\u001b[39m,\n\u001b[1;32m    <a href='file:///opt/homebrew/lib/python3.9/site-packages/pandas/io/common.py?line=794'>795</a>\u001b[0m         )\n\u001b[1;32m    <a href='file:///opt/homebrew/lib/python3.9/site-packages/pandas/io/common.py?line=795'>796</a>\u001b[0m     \u001b[39melse\u001b[39;00m:\n\u001b[1;32m    <a href='file:///opt/homebrew/lib/python3.9/site-packages/pandas/io/common.py?line=796'>797</a>\u001b[0m         \u001b[39m# Binary mode\u001b[39;00m\n\u001b[0;32m--> <a href='file:///opt/homebrew/lib/python3.9/site-packages/pandas/io/common.py?line=797'>798</a>\u001b[0m         handle \u001b[39m=\u001b[39m \u001b[39mopen\u001b[39;49m(handle, ioargs\u001b[39m.\u001b[39;49mmode)\n\u001b[1;32m    <a href='file:///opt/homebrew/lib/python3.9/site-packages/pandas/io/common.py?line=798'>799</a>\u001b[0m     handles\u001b[39m.\u001b[39mappend(handle)\n\u001b[1;32m    <a href='file:///opt/homebrew/lib/python3.9/site-packages/pandas/io/common.py?line=800'>801</a>\u001b[0m \u001b[39m# Convert BytesIO or file objects passed with an encoding\u001b[39;00m\n",
      "\u001b[0;31mFileNotFoundError\u001b[0m: [Errno 2] No such file or directory: '/Users/ct6g18/Python/org-alk-sausage-machine/Test_Spreadsheets/01.09.21.50UM.003_PROCESSED.xlsx'"
     ]
    }
   ],
   "source": [
    "import os\n",
    "os.chdir(\"/Users/ct6g18/Python/org-alk-sausage-machine\")\n",
    "import SausageMachine\n",
    "tit = SausageMachine.OrgAlkTitrationBatch(\"~/Python/org-alk-sausage-machine/Test_Spreadsheets\"\n",
    "                                         ,\"Master_Tit_file_updated.xlsx\"\n",
    "                                         ,\"~/Python/org-alk-sausage-machine/\"\n",
    "                                         ,\"Master_Results_File_NEW.xlsx\")\n",
    "tit.batch_calculate(SSR_frac_change_limit=[1e-8,1e-4,1e-6],plot_results=False)"
   ]
  }
 ],
 "metadata": {
  "interpreter": {
   "hash": "b0fa6594d8f4cbf19f97940f81e996739fb7646882a419484c72d19e05852a7e"
  },
  "kernelspec": {
   "display_name": "Python 3.9.10 64-bit",
   "language": "python",
   "name": "python3"
  },
  "language_info": {
   "codemirror_mode": {
    "name": "ipython",
    "version": 3
   },
   "file_extension": ".py",
   "mimetype": "text/x-python",
   "name": "python",
   "nbconvert_exporter": "python",
   "pygments_lexer": "ipython3",
   "version": "3.9.10"
  },
  "orig_nbformat": 4
 },
 "nbformat": 4,
 "nbformat_minor": 2
}
